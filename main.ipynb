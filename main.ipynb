{
 "cells": [
  {
   "cell_type": "markdown",
   "id": "a387a0f5",
   "metadata": {},
   "source": [
    "# Minnesota GIS Boundary Viewer\n",
    "\n",
    "Use the dropdowns to select a county and a layer (e.g., school districts, precincts, or civil divisions). The interactive map will update automatically. "
   ]
  },
  {
   "cell_type": "code",
   "execution_count": 5,
   "id": "f4729556",
   "metadata": {},
   "outputs": [
    {
     "data": {
      "application/vnd.jupyter.widget-view+json": {
       "model_id": "6e3ba8cc878d4a40b947fb3a438cda15",
       "version_major": 2,
       "version_minor": 0
      },
      "text/plain": [
       "VBox(children=(Dropdown(description='County:', layout=Layout(width='50%'), options=(('St. Louis County', 'coun…"
      ]
     },
     "metadata": {},
     "output_type": "display_data"
    }
   ],
   "source": [
    "# main.ipynb\n",
    "\n",
    "import sys\n",
    "from pathlib import Path\n",
    "\n",
    "# Add the project root to sys.path\n",
    "sys.path.append(str(Path().resolve()))\n",
    "\n",
    "# This is a Jupyter notebook intended to be launched with Voila\n",
    "\n",
    "import ipywidgets as widgets\n",
    "from IPython.display import display, clear_output\n",
    "from app.widgets.county_selector import county_selector\n",
    "from app.widgets.layer_selector import layer_selector\n",
    "from app.display_map import display_map, display_map_mcd\n",
    "\n",
    "# Create widgets\n",
    "county = county_selector()\n",
    "layer = layer_selector()\n",
    "\n",
    "# Output area\n",
    "out = widgets.Output()\n",
    "\n",
    "# Display UI\n",
    "display(widgets.VBox([county, layer, out]))\n",
    "\n",
    "# Event handler\n",
    "def update_map(change=None):\n",
    "    with out:\n",
    "        clear_output()\n",
    "        if layer.value == \"mcd\":\n",
    "            display_map_mcd(county.value)\n",
    "        else:\n",
    "            display_map(county.value, layer.value)\n",
    "\n",
    "# Register observers\n",
    "county.observe(update_map, names=\"value\")\n",
    "layer.observe(update_map, names=\"value\")\n",
    "\n",
    "# Initial rendering\n",
    "update_map()\n"
   ]
  },
  {
   "cell_type": "markdown",
   "id": "21e4ebc3",
   "metadata": {},
   "source": [
    "### Learn More\n",
    "\n",
    "See the code on [GitHub: gis-mn-civic](https://github.com/denisecase/gis-mn-civic).\n",
    "Built and published with Python, Folium, GeoPandas, and Voila.\n",
    "\n",
    "### Data Sources\n",
    "- [MN Secretary of State](https://www.sos.state.mn.us/)\n",
    "- [St. Louis County GIS](https://gis.stlouiscountymn.gov/)\n",
    "- [St. Louis County GIS Open Data Hub](https://open-data-slcgis.hub.arcgis.com/search?tags=administrative%2520boundaries)"
   ]
  }
 ],
 "metadata": {
  "kernelspec": {
   "display_name": ".venv",
   "language": "python",
   "name": "python3"
  },
  "language_info": {
   "codemirror_mode": {
    "name": "ipython",
    "version": 3
   },
   "file_extension": ".py",
   "mimetype": "text/x-python",
   "name": "python",
   "nbconvert_exporter": "python",
   "pygments_lexer": "ipython3",
   "version": "3.12.4"
  }
 },
 "nbformat": 4,
 "nbformat_minor": 5
}
